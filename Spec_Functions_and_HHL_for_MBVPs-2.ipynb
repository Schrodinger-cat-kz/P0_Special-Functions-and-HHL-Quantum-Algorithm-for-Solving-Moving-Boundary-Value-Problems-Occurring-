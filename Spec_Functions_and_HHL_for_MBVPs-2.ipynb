{
 "cells": [
  {
   "cell_type": "markdown",
   "metadata": {
    "tags": [
     "remove_cell"
    ]
   },
   "source": [
    "# Special Functions and HHL Quantum Algorithm for Solving Moving Boundary Value Problems Occurring in Electric Contact Phenomena"
   ]
  },
  {
   "cell_type": "markdown",
   "metadata": {},
   "source": [
    "In this tutorial, we introduce the HHL algorithm for solving Moving Boundary Value Problems."
   ]
  },
  {
   "cell_type": "markdown",
   "metadata": {
    "tags": [
     "contents"
    ]
   },
   "source": [
    "## Contents\n",
    "1. [Introduction](#introduction)\n",
    "2. [Some mathematical background](#mathbackground)\n",
    "3. [Model Problem 1: Moving Boundary Value Problems](#mbvp)\n",
    "4. [Model Problem 2: Inverse Stefan Problem](#isp)\n",
    "5. [Experiments](#exper)\n",
    "6. [References](#references)"
   ]
  },
  {
   "cell_type": "markdown",
   "metadata": {},
   "source": [
    "## 1. Introduction <a id='introduction'></a>\n",
    "\n",
    "Electrical contacts, their design and reliability play crucial role in designing modern electrical apparatuses. A lot of electric contact phenomena accompanied with heat and mass transfer like arcing and bridging are very rapid (nanosecond range) <sup>[1,](#holm)</sup><sup>[2](#slade)</sup> that their experimental study is very difficult or sometimes impossible and the need of their mathematical modeling is due not only to the need to optimize the planning experiment, but also sometimes due to the impossibility to use a different approach. Free (FBVPs) and Moving Boundary Value Problems (MBVPs) take in account phase transformations <sup>[3,](#fried70)</sup><sup>[4](#rub)</sup>, agree with experimental data and can serve as models for aforementioned processes <sup>[5,](#khar16)</sup><sup>[6,](#khar15)</sup><sup>[7](#kharsar12)</sup>.\n",
    "From theoretical point of view, these problems are among the most challenging problems in the theory of non-linear parabolic equations, which along with the desired solution an unknown moving boundary has to be found. In some specific cases it is possible to construct Heat Potentials for which, boundary value problems can be reduced to integral equations <sup>[3,](#fried70)</sup><sup>[4,](#rub)</sup><sup>[8](#tikh)</sup>. However, in the case of domains that degenerate at the initial time, there are additional difficulties due to the singularity of integral equations, which belong to the class of pseudo - Volterra equations which can be solved in special cases and hard to solve in general case. A reader can refer to the long list of studies in <sup>[9](#tar)</sup> and literature therein dedicated to the MBVPs. Despite the great value and exhaustiveness of all these results, investigation and elaboration of both exact and approximate methods for solving MBVPs responsible for adequate modeling electric contact phenomena  is still an actual mathematical problem.\\\\\n",
    "In this paper we consider a class of PDEs with moving boundaries\n",
    "\\begin{align}\n",
    "&\\frac{\\partial {\\theta}}{\\partial {t}} = a^2\\left(\\frac{\\partial {\\theta^2}}{\\partial {x^2}} + \\frac{\\nu}{x}\\frac{\\partial{\\theta}}{\\partial{x}} \\right),\\hspace{1em} \\alpha(t)<x<\\beta(t),\\hspace{1em}  -\\infty<\\nu<\\infty,\\hspace{1em} t>0, \\label{geneq}\\tag{1}\\\n",
    "\\end{align}\n",
    "which can be solved by the series of linear combinations of special functions which apriori satisfy equation $\\eqref{geneq}$\n",
    "\\begin{align}\n",
    "&S_{\\gamma,\\nu}^{1}\\left(x,t\\right) = \\left(2a\\sqrt{t}\\right)^{\\gamma}\\Phi\\left(-\\frac{\\gamma}{2},\\frac{\\nu+1}{2};-\\frac{x^{2}}{4a^{2}t}\\right),\\hspace{1em} -\\infty<\\gamma,\\nu<\\infty,\\hspace{1em} \\label{hyper1}\\tag{2}\\\\[1mm]\n",
    "&S_{\\gamma,\\nu}^{2}\\left(x,t\\right) = \\left(2a\\sqrt{t}\\right)^{\\gamma}\\left(\\frac{x^{2}}{4a^{2}t}\\right)^{\\frac{1-\\nu}{2}}\\Phi\\left(\\frac{1-\\nu-\\gamma}{2},\\frac{3-\\nu}{2};-\\frac{x^{2}}{4a^{2}t}\\right).\\label{hyper2}\\hspace{1em}\\tag{3}\\\n",
    "\\end{align}\n",
    "Generalized Heat Equation and its solutions were studied in <sup>[10,](#app)</sup><sup>[11,](#widd75)</sup><sup>[12,](#chol)</sup><sup>[13,](#widd63)</sup><sup>[14](#bragg)</sup> and was successfully applied in <sup>[5,](#khar15)</sup><sup>[6,](#khar16)</sup><sup>[7,](#kharsar12)</sup><sup>[15](#khar17)</sup> for modeling and solving Heat and Mass transfer problems in diverse electric contact phenomena. Our goal in this series of studies is to develop new computational methods for solving MBVPs where we will be employing and developing quantum algorithms.\\\\\n",
    "Pioneering studies <sup>[16,](#benioff)</sup><sup>[17](#feynm)</sup> in 1980s gave a birth to a new paradigm in computation which we call nowadays quantum computing, whereby information is encoded in a quantum system. Further on, in 1990s a series of studies <sup>[18,](#shor)</sup><sup>[19,](#grov96)</sup> <sup>[20](#grov97)</sup> dedicated to quantum algorithms provided exponential speed-up in run time over the best known classical algorithms for same tasks. In last decades, consistent advances in theory and experiments generated a plethora of powerful quantum algorithms <sup>[21](#mont)</sup> \n",
    "which surpass their classical counterparts in terms of computational power, however worth noting that their applications are restricted to few use cases due to the challenges related to their physical realization. Careful physical realization may lead to profound results in reaching exponential speed-up.\\\\\n",
    "In this particular study, we will be using one of such powerful quantum algorithms developed by Harrow-Hassidim-Lloyd (HHL) <sup>[22](#hhl)</sup> to solve MBVPs. The HHL algorithm, its modifications and improvements <sup>[22,](#hhl)</sup><sup>[23,](#wosn)</sup><sup>[24,](#duan)</sup><sup>[25,](#abh)</sup><sup>[26,](#chakr)</sup><sup>[27](#derv)</sup> (both for sparse and dense matrices) is the operator inversion or linear systems solving quantum algorithm, has wide range of applications <sup>[24,](#duan)</sup> as well as attempts to dequantize them <sup>[28](#tang)</sup> and provides exponential speed-up over the classical algorithms. For detailed survey on improvements and limitations, complexity,QRAM and physical implementation  of the algorithm we refer reader to <sup>[24,](#duan)</sup><sup>[27](#derv)</sup> and literature therein.\\\\\n",
    "We consider a system of non homogeneous differential equations or system of linear algebraic equations which can be represented in the following form\n",
    "\\begin{align}\n",
    "Mx = b,\\tag{4}\\\n",
    "\\label{mateq}\n",
    "\\end{align}\n",
    "where in this study we assume that $M$ is Hermitian and s-sparse matrix, and b is a vector column. This condition can be relaxed and it can be shown that $\\tilde{M} = \\begin{bmatrix}\n",
    "0 & M\\\\\n",
    "M^{T} & 0\n",
    "\\end{bmatrix}$ can be brought to Hermitian matrix.\n",
    "Since $\\tilde{M}$ is Hermitian, we can solve the equation \n",
    "$\\tilde{M}\\vec{y} = \\begin{bmatrix}\n",
    "\\vec{b}\\\\\n",
    "0\n",
    "\\end{bmatrix}$\n",
    "to obtain $y = \\begin{bmatrix}\n",
    "0\\\\\n",
    "\\vec{x}\n",
    "\\end{bmatrix}$.\n",
    "Therefore the rest of the article we assume that $M$ is Hermitian.\\\\\n",
    "The idea of the method is to reduce given MBVP to the system of linear algebraic equations \\ref{mateq} and apply HHL algorithm.\n",
    "In this study we will consider an \"ideal\" case where the data is encoded \"efficiently\" and refer reader to <sup>[27](#derv)</sup> and literature therein for different methods of Hamiltonian simulation and quantum phase estimation."
   ]
  },
  {
   "cell_type": "markdown",
   "metadata": {},
   "source": [
    "## 2. Some mathematical background<a id='mathback'></a>\n",
    "\n",
    "Equation \\ref{geneq} with arbitrary $\\nu$ is a generalized heat equation which can serve as a model for bridging processes in electrical contacts with variable cross section. For $\\nu=0,1,2$ equation \\ref{geneq} is transformed to the following heat equation in linear, spherical and cylindrical coordinates respectively\n",
    "\\begin{align}\n",
    "&\\frac{\\partial {\\theta}}{\\partial {t}} = a^2\\frac{\\partial {\\theta^2}}{\\partial {x^2}},\\hspace{1em} &\\alpha(t)<x<\\beta(t),\\hspace{1em} t>0 \\label{lin}\\tag{5}\\\\[1mm]\n",
    "&\\frac{\\partial {\\theta}}{\\partial {t}} = a^2\\left(\\frac{\\partial {\\theta^2}}{\\partial {x^2}} + \\frac{1}{x}\\frac{\\partial{\\theta}}{\\partial{x}} \\right),\\hspace{1em}  &\\alpha(t)<x<\\beta(t),\\hspace{1em} t>0 \\label{cyl}\\tag{6}\\\\[1mm]\n",
    "&\\frac{\\partial {\\theta}}{\\partial {t}} = a^2\\left(\\frac{\\partial {\\theta^2}}{\\partial {x^2}} + \\frac{2}{x}\\frac{\\partial{\\theta}}{\\partial{x}} \\right),\\hspace{1em}  &\\alpha(t)<x<\\beta(t),\\hspace{1em} t>0\\tag{7}\\ \\label{sphr}\n",
    "\\end{align}\n",
    "and from \\ref{hyper1} and \\ref{hyper2} one can obtain solutions for equations \\ref{lin},\\ref{cyl} and \\ref{sphr} in the form of following series of linear combinations of special functions \n",
    "\\begin{align}\n",
    "&\\theta(x,t)= \\sum_{n=0}^{k}\\left(2a\\sqrt{t}\\right)^{n}\\left[A_ni^nerfc\\left( \\frac{x}{2a\\sqrt{t}} \\right)+ B_ni^nerfc\\left( \\frac{-x}{2a\\sqrt{t}} \\right)\\right] \\label{sollin}\\tag{8}\\\\[3mm]\n",
    "&\\theta(x,t)= \\sum_{n=0}^{k}F_n\\frac{n!}{\\left(2n\\right)!}\\left(4a^2t\\right)^{n}L_n\\left(-\\frac{x}{4a^{2}t}\\right), \\label{solcyl}\\tag{9}\\\\[3mm]\n",
    "&\\theta(x,t)= \\frac{1}{x}\\sum_{n=0}^{k}\\left(2a\\sqrt{t}\\right)^{n}\\left[C_ni^nerfc\\left( \\frac{x}{2a\\sqrt{t}} \\right)+ D_ni^nerfc\\left( \\frac{-x}{2a\\sqrt{t}} \\right)\\right], \\label{solsphr}\\tag{10}\\\n",
    "\\end{align}\n",
    "where coefficients $A_n,B_n,C_n,D_n,F_n$ and $k$ have to be determined and can be found from boundary and initial conditions subject to corresponding equations \\ref{lin},\\ref{cyl} and \\ref{sphr} by using quantum HHL algorithm. After substituting solution functions into boundary conditions, the problem is reduced to the system of linear algebraic equations which are solved by the HHL algorithm. As for arbitrary moving boundary $\\alpha(t)$ coefficients of solution functions are calculated in the same manner in combination with Faa Di Bruno's formula and HHL  Algorithm.\n",
    "Following formula is useful for determining coefficients in \\ref{sollin}, \\ref{solcyl} and \\ref{solsphr} from initial conditions of corresponding MBVPs considered in following sections\n",
    "\\begin{align}\n",
    "\\underset{x\\to 0}{\\lim}\\frac{1}{z^{\\beta}}\\Phi\\left(-\\frac{\\beta}{2},\\mu;-z^{2}\\right) = \\frac{\\Gamma(\\mu)}{\\Gamma(\\mu+\\frac{\\beta}{2})}.\\label{crlry}\\tag{11}\\\n",
    "\\end{align}\n",
    "Exact or approximate solutions of \\ref{geneq} for arbitrary $\\nu$ can be reduced to system of linear algebraic equations or \\ref{mateq}. The HHL algorithm applied for solving MBVPs provides exponential speedup in run time over the classical algorithm under the ideal case assumption i.e. Hamiltonian simulation, phase estimation, load and read out of data are implemented \"efficiently\".\\\\\n",
    "\\begin{algorithm}[H]\n",
    "\\SetAlgoLined\n",
    "\\KwData{Load the data $\\ket{b}\\in\\mathbb{C} ^{N}$}\n",
    "\\KwResult{Apply an observable  M  to calculate $F(x)=\\bra{x}M\\ket{x}.$}\n",
    "initialization\\;\n",
    "\\While{outcome is not $1$ }{\n",
    "\\begin{itemize} \n",
    "  \\item Apply Quantum Phase Estimation (QPE) with\\\\ $U=e^{iMt}:=\\sum_{j=0}^{N-1}e^{i\\lambda_{j}t}\\ket{u_j}\\bra{u_j}$. Which implies $\\sum_{j=0}^{N-1}b_{j}\\ket{\\lambda_j}_{n_{l}}\\bra{u_j}_{n_{b}}$, \\\\ in the eigenbasis of  $M$\\\\\n",
    "where $\\ket{\\lambda_j}_{n_{l}}$ is the  $n_{l}$ -bit binary representation of $\\lambda_{j}$ .\n",
    "  \\item Add an ancilla qubit and apply a rotation conditioned on  $\\ket{\\lambda_j},$\\\\\n",
    "  $\\sum_{j=0}^{N-1}b_{j}\\ket{\\lambda_j}_{n_{l}}\\bra{u_j}_{n_{b}}\\left(\\sqrt{1-\\frac{C^2}{\\lambda_j^2}}\\ket{0}+\\frac{C}{\\lambda_j}\\ket{1}\\right)$, $C$ - normalization constant.\n",
    "  \\item Apply $QPE^{\\dag}.$ This results in\\\\\n",
    "  $\\sum_{j=0}^{N-1}b_{j}\\ket{0}_{n_{l}}\\bra{u_j}_{n_{b}}\\left(\\sqrt{1-\\frac{C^2}{\\lambda_j^2}}\\ket{0}+\\frac{C}{\\lambda_j}\\ket{1}\\right);$\n",
    "\\end{itemize}\n",
    "\\eIf{If the outcome is  $1$ , the register is in the post-measurement state\\\\\n",
    "    $\\left(\\sqrt{\\frac{1}{\\sum_{j=1}^{N-1}\\left|b_j\\right|^2/\\left|\\lambda_j\\right|^2/}}\\right)\\sum_{j=0}^{N-1}\\frac{b_{j}}{\\lambda_{j}}\\ket{0}_{n_{l}}\\bra{u_j}_{n_{b}}$ }{Apply an observable  M  to calculate $F(x)=\\bra{x}M\\ket{x}$;\n",
    "}{\n",
    "repeat the loop\\;\n",
    "}\n",
    "}\n",
    "\\caption{Quantum HHL Algorithm in Qiskit}\n",
    "\\label{alg:genhhl}\n",
    "\\end{algorithm}\n",
    "\n",
    "\n",
    "\n",
    "For computational purposes we use Qiskit and IBM's quantum device. Let's consider exact and approximate solutions of two model problems where we demonstrate the use of HHL quantum algorithm. The error of the approximate solution can be estimated by the Maximum Principle.\\\\"
   ]
  },
  {
   "cell_type": "markdown",
   "metadata": {},
   "source": [
    "## 3. Model Problem 1: Moving Boundary Value Problems<a id='mbvp'></a>\n",
    "\n",
    "For electric contacts with small contact surface area (with contact radius $b < 10^{-4} \\hspace{1mm} m.$) and low electric current, Holm’s ideal sphere  <sup>[1](#holm)</sup> and following system of spherical heat equations ($\\nu=2$ in \\ref{geneq}) can be sufficient for adequate modeling and investigation of diverse electric contact phenomena for example heat transfer in closed electric contacts where $\\theta_{1}$ and $\\theta_{2}$ are temperature functions in liquid and solid phases respectively.\n",
    "\\begin{align}\n",
    "&\\frac{\\partial {\\theta_{1}}}{\\partial {t}} = a_{1}^{2}\\left(\\frac{\\partial {\\theta_{1}^{2}}}{\\partial {x^{2}}} + \\frac{2}{x}\\frac{\\partial{\\theta_{1}}}{\\partial{x}} \\right),\\hspace{1em}  &b<x<\\alpha(t),\\hspace{1em} t>0 \\label{mod1_eq1}\\tag{12}\\\\\n",
    "&\\frac{\\partial {\\theta_{2}}}{\\partial {t}} = a_{2}^{2}\\left(\\frac{\\partial {\\theta_{2}^{2}}}{\\partial {x^2}} + \\frac{2}{x}\\frac{\\partial{\\theta_{2}}}{\\partial{x}} \\right),\\hspace{1em}  &\\alpha(t)<x<\\infty,\\hspace{1em} t>0 \\label{mod1_eq2}\\tag{13}\\\n",
    "\\end{align}\n",
    "where $b$ is the radius of the ideal Holm's sphere.\n",
    "Using substitution $\\theta = \\frac{U}{x}+T_{m}$ in equations \\ref{mod1_eq1} and \\ref{mod1_eq2}  \n",
    "subject to certain boundary conditions depending on the studied phenomenon can be reduced to the problem below. $T_{m}$ is the melting temperature at moving boundary. For the sake of simplicity we omit Stefan condition and consider $\\alpha\\sqrt{t}$ moving boundary function which is a good approximation and widely used in applied problems. Let's consider following abstract MBVP:\n",
    "\\begin{align}\n",
    "&\\frac{\\partial U_1}{\\partial t} = a_1^2\\frac{\\partial U_1^2}{\\partial x^2},\\hspace{1em} &0<x<\\alpha\\sqrt{t},\\hspace{1em} t>0,  \\label{mod1_eq11}\\tag{14}\\\\[3mm]\n",
    "&\\frac{\\partial U_2}{\\partial t} = a_2^2\\frac{\\partial U_2^2}{\\partial x^2},\\hspace{1em} &\\alpha\\sqrt{t}<x<\\infty,\\hspace{1em} t>0, \\label{mod1_eq22}\\tag{15}\\\\[3mm]\n",
    "&U_1(0,0) = 0,\\label{mod1_incond1}\\tag{16}\\\\[3mm]\n",
    "&U_2(x,0) = f(x),\\label{mod1_incond2}\\tag{17}\\\\[3mm]\n",
    "&\\left.\\frac{\\partial U_1}{\\partial x} \\right|_{x=0} = P(t),  \\label{mod1_flux}\\tag{18}\\\\[3mm]\n",
    "&\\left.\\sigma\\frac{\\partial U_1}{\\partial x} \\right|_{x=\\alpha\\sqrt{t}} = \\left.\\frac{\\partial U_1}{\\partial x} \\right|_{x=\\alpha\\sqrt{t}},  \\label{mod1_flux2}\\tag{19}\\\\[3mm]\n",
    "&U_1(\\alpha\\sqrt{t},t) = U_2(\\alpha\\sqrt{t},t)\\label{mod1_temp}\\tag{20}\\\\[3mm]\n",
    "&U_2(\\infty,0) = 0.\\label{infty}\\tag{21}\\\n",
    "\\end{align}\n",
    "We represent solution in the form of series\n",
    "\\begin{align}\n",
    "&U_1(x,t)= \\sum_{n=0}^{k}\\left(2a_{1}\\sqrt{t}\\right)^{n}\\left[A_ni^nerfc\\left( \\frac{x}{2a_{1}\\sqrt{t}} \\right)+ B_ni^nerfc\\left( \\frac{-x}{2a_{1}\\sqrt{t}} \\right)\\right], \\label{mod1_sol1}\\tag{22}\\\\[3mm]\n",
    "&U_2(x,t)= \\sum_{n=0}^{k}\\left(2a_{2}\\sqrt{t}\\right)^{n}\\left[C_ni^nerfc\\left( \\frac{x}{2a_{2}\\sqrt{t}} \\right)+ D_ni^nerfc\\left( \\frac{-x}{2a_{2}\\sqrt{t}} \\right)\\right], \\label{mod1_sol2}\\tag{23}\\\n",
    "\\end{align}\n",
    "where $k$ is defined from boundary conditions. To find $D_{n}$ we substitute \\ref{mod1_sol2} into initial condition \\ref{mod1_incond2}. Taking into account that $\\underset{t\\to 0}{\\lim}\\sum_{n=0}^{k}\\left(\\frac{x}{2a\\sqrt{t}}\\right)C_{n}i^nerfc\\left(\\frac{x}{2a\\sqrt{t}}\\right)=0$, using L'Hopital's rule in $\\underset{x\\to \\infty}{\\lim}\\frac{i^nerfc(-x)}{x^n}=\\frac{2}{n!}$ and in $\\underset{t\\to 0}{\\lim}\\frac{\\left(2a\\sqrt{t}\\right)^{n}D_{n}i^nerfc\\left(\\frac{-x}{2a\\sqrt{t}}\\right)}{\\left(\\frac{x}{2a\\sqrt{t}}\\right)^{n}}\\left(\\frac{x}{2a\\sqrt{t}}\\right)^{n}=\\frac{2x^{n}D_n}{n!}$, and using formula \\ref{crlry} we obtain following expression for $D_{n}$ coefficients\n",
    "\\begin{align}\n",
    "&\\sum_{n=0}^{k}\\frac{2x^{n}D_n}{n!}=\\sum_{n=0}^{m}f^{n}(0)\\frac{x^{n}}{n!}\n",
    "\\label{dn_coeff}\\tag{24}\\\n",
    "\\end{align}\n",
    "Finally, after comparing coefficients at $x^{n}$ in \\ref{dn_coeff} we get following expression for $D_{n}$\n",
    "\\begin{align}\n",
    "&D_n=\\frac{f^{n}(0)}{2}\\tag{25}\\\n",
    "\\label{mod1_Dn}\n",
    "\\end{align}\n",
    "From conditions \\ref{mod1_flux}, \\ref{mod1_flux2}, \\ref{mod1_temp} and \\ref{mod1_sol1}, \\ref{mod1_sol2} we get following expressions\n",
    "\\begin{subequations}\n",
    "\\begin{align}\n",
    "&\\left.\\frac{\\partial U_1}{\\partial x} \\right|_{x=0} = \\sum_{n=0}^{k}\\left(2a_{1}\\sqrt{t}\\right)^{n-1}i^{n-1}erfc\\left( 0 \\right)\\left[-A_{n}+ B_{n} \\right]\\equiv \\sum_{n=0}^{k}P^{n}(0)\\frac{t^{\\frac{n}{2} }}{n!}, \\label{mod1_sys1}\\tag{26a}\\\\\\\n",
    "&\\sigma \\sum_{n=0}^{k}\\left(2a_{1}\\sqrt{t}\\right)^{n-1}\\left[-A_ni^{n-1}erfc\\left( \\frac{\\alpha}{2a_{1}} \\right)+ B_ni^{n-1}erfc\\left( \\frac{-\\alpha}{2a_{1}} \\right)\\right]\\label{mod1_sys2}\\tag{26b}\\\\\\\\\n",
    "&=\\sum_{n=0}^{k}\\left(2a_{2}\\sqrt{t}\\right)^{n-1}\\left[-C_ni^{n-1}erfc\\left( \\frac{\\alpha}{2a_{2}} \\right)+ D_ni^{n-1}erfc\\left( \\frac{-\\alpha}{2a_{2}} \\right)\\right]\\nonumber,\\\\ \n",
    "&\\sum_{n=0}^{k}\\left(2a_{1}\\sqrt{t}\\right)^{n}\\left[A_ni^nerfc\\left( \\frac{\\alpha}{2a_{1}} \\right)+ B_ni^nerfc\\left( \\frac{-\\alpha}{2a_{1}} \\right)\\right]\\label{mod1_sys3}\\\\&=\n",
    "\\sum_{n=0}^{k}\\left(2a_{2}\\sqrt{t}\\right)^{n}\\left[C_ni^nerfc\\left( \\frac{\\alpha}{2a_{2}} \\right)+ D_ni^nerfc\\left( \\frac{-\\alpha}{2a_{2}} \\right)\\right]\\tag{26c}\\\\nonumber. \n",
    "\\end{align}\n",
    "\\end{subequations}\n",
    "After transferring expressions $-\\sum_{n=0}^{k}\\left(2a_{2}\\sqrt{t}\\right)^{n}C_ni^{n-1}erfc\\left( \\frac{\\alpha}{2a_{2}} \\right)$,\\\\\n",
    "$\\sum_{n=0}^{k}\\left(2a_{2}\\sqrt{t}\\right)^{n}C_ni^{n}erfc\\left( \\frac{\\alpha}{2a_{2}} \\right)$ to the left side of \\ref{mod1_sys2}, \\ref{mod1_sys3} and comparing coefficients at same powers of $\\sqrt{t}$, equations \\ref{mod1_sys1}, \\ref{mod1_sys2} and \\ref{mod1_sys3} can be represented in the form of system of linear algebraic equations or in the form of matrix equation \\ref{mateq}\n",
    "where\n",
    "\\begin{align}\n",
    "&M=\\begin{pmatrix}m_{11}&m_{12}&0&0&\\dots&0\\\\m_{21}&m_{22}&m_{23}&0&\\dots&0\\\\m_{31}&m_{32}&m_{33}&0&\\dots&0\\\\\\vdots&&&\\ddots&&\\vdots&\\\\0&\\dots&0&m_{3k+13k+1}&m_{3k+13k+2}&0\\\\0&\\dots&0&m_{3k+23k+1}&m_{3k+23k+2}&m_{3k+23(k+1)}\\\\0&\\dots&0&m_{3(k+1)3k+1}&m_{3(k+1)3k+2}&m_{3(k+1) 3(k+1)}\\end{pmatrix},\\label{mentries}\\tag{27}\\\n",
    "\\\\&x=\\begin{pmatrix}A_0\\\\B_0\\\\C_0\\\\\\vdots\\\\A_k\\\\B_k\\\\C_k\\end{pmatrix},\\tag{27}\\ \n",
    "b=\\begin{pmatrix} 0\\\\\n",
    "\\frac{f^{0}(0)}{2}i^{-1}erfc\\left( \\frac{-\\alpha}{2a_{2}} \\right)\\\\\n",
    "\\frac{f^{0}(0)}{2}i^{0}erfc\\left( \\frac{-\\alpha}{2a_{2}} \\right)\\\\\\vdots\\\\\\frac{P^{k-1}(0)}{(k-1)!\\left(2a_1\\right)^{k-1}}\\\\\n",
    "\\frac{f^{k}(0)}{2a_2^{k-1}}i^{k-1}erfc\\left( \\frac{-\\alpha}{2a_{2}} \\right)\\\\\n",
    "\\frac{f^{k}(0)}{2a_2^{k-1}}i^{k}erfc\\left( \\frac{-\\alpha}{2a_{2}} \\right)\\end{pmatrix}\\nonumber,\n",
    "\\end{align}\n",
    "where\n",
    "\\begin{align*}\n",
    "&m_{3k+13k+1}=-i^{k-1}erfc\\left( 0 \\right), \n",
    "m_{3k+13k+2}=i^{k-1}erfc\\left( 0 \\right),\n",
    "\\\\&m_{3k+23k+1}=-\\sigma a_{1}^{k-1}i^{k-1}erfc\\left( \\frac{\\alpha}{2a_{1}} \\right),\n",
    "m_{3k+23k+2}= \\sigma a_{1}^{k-1} i^{k-1}erfc\\left( \\frac{-\\alpha}{2a_{1}} \\right),\\\\&m_{3k+23k+3}= a_{2}^{k-1} i^{k-1}erfc\\left( \\frac{\\alpha}{2a_{2}} \\right),\\\\&m_{3k+33k+1}=a_1^k i^{k}erfc\\left( \\frac{\\alpha}{2a_{1}} \\right),\n",
    "m_{3k+33k+2}= a_1^k i^{k}erfc\\left( \\frac{-\\alpha}{2a_{1}} \\right),\\\\\n",
    "&m_{3k+33k+3}= -a_2^k i^{k}erfc\\left( \\frac{\\alpha}{2a_{1}} \\right)\n",
    "\\end{align*}\n",
    "and expressions $i^{n}erfc\\left( \\frac{\\pm \\alpha}{2a_{j}} \\right)$, $i^{n}erfc\\left( 0 \\right)$ for $j=1,2$, $n=-1,0,...,k$ are numbers which can be determined from tables or by calculators. Next, we use algorithm \\ref{alg:genhhl} for solving equation \\ref{mateq} with entries given in formula \\ref{mentries} and refer reader to <sup>[29](#sar0)</sup> for more details on numerical experiment in Qiskit."
   ]
  },
  {
   "cell_type": "markdown",
   "metadata": {},
   "source": [
    "## 4. Model Problem 2: Inverse Stefan Problem<a id='isp'></a>\n",
    "In previous section we considered $\\alpha\\sqrt{t}$ case, as for arbitrary $\\alpha(t)$ boundary we follow same principle and use Fa Di Bruno's Formula in combination with HHL quantum algorithm to find exact solutions. Worth noting that, in electrical engineering, it's sometimes sufficient and useful to utilize approximate solutions of the problems where error can be estimated using the Maximum principle.\\\\ \n",
    "In this section we will demonstrate the use of HHL algorithm for approximate solution (collocation method) of the Inverse Two-Phase Stefan Problem which is used for modeling arcing processes and determining heat flux function <sup>[30](#sar17)</sup>. Direct Stefan problem is a type of free boundary value problems where along with a temperature function $\\theta$ in \\ref{mod1_eq1} and \\ref{mod1_eq2}, an unknown moving boundary has to be determined. In inverse Stefan problems moving boundary is given and known, the goal is to reconstruct functions at boundary conditions and temperature functions in system of Heat Equations. These problems are widely used for modeling wide range of transient phenomena in chemistry, physics, biology and economics <sup>[9,](#tar)</sup><sup>[31,](#fried)</sup>. In the problem below, moving boundary $\\alpha(t)$ is given and besides temperature function $\\theta$ in \\ref{mod2_eq1},\\ref{mod2_eq2}, flux function $P(t)$ has to be determined. Let's consider following linear Inverse Two-Phase Stefan Problem\n",
    "\\begin{align}\n",
    "&\\frac{\\partial {\\theta_{1}}}{\\partial {t}} = a_{1}^{2}\\frac{\\partial {\\theta_{1}^{2}}}{\\partial {x^{2}}},\\hspace{1em}  &0<x<\\alpha(t),\\hspace{1em} 0<t<t_{a} \\label{mod2_eq1}\\tag{28}\\\\[1mm]\n",
    "&\\frac{\\partial {\\theta_{2}}}{\\partial {t}} = a_{2}^{2}\\frac{\\partial {\\theta_{2}^{2}}}{\\partial {x^2}},\\hspace{1em}  &\\alpha(t)<x<X,\\hspace{1em} 0<t<t_{a} \\label{mod2_eq2}\\tag{29}\\\\[3mm]\n",
    "&\\theta_{1}(0,0) = T_{m},\\label{mod2_incond1}\\tag{30}\\\\[3mm]\n",
    "&\\theta_{2}(x,0) = f(x),\\label{mod2_incond2}\\tag{31}\\\\[3mm]\n",
    "&f(0)=T_{m},\\hspace{1mm}\\alpha(0)=0,\\hspace{1mm}\\underset{x\\to \\infty}{\\lim}f(x)\\approx f(X)=0,\\hspace{1mm} \\hspace{1mm}&\\underset{x\\to \\infty}{\\lim}\\theta(x,t)\\approx \\theta(X,t)=0,\\label{concord}\\tag{32}\\\\[3mm]\n",
    "&\\left.-\\lambda_{1}\\frac{\\partial{\\theta_1}}{\\partial{x}} \\right|_{x=0} = P(t),\\label{mod2_flux}\\tag{33}\\\\[3mm]\n",
    "&\\theta_{1}(\\alpha(t),t) = \\theta_{2}(\\alpha(t),t)=T_{m}  \\label{mod2_temp}\\tag{34}\\\\[3mm]\n",
    "&\\left.-\\lambda_{1}\\frac{\\partial \\theta_{1}}{\\partial x} \\right|_{x=\\alpha(t)} = \\left.-\\lambda_{2}\\frac{\\partial \\theta_{2}}{\\partial x} \\right|_{x=\\alpha(t)}+L\\gamma\\frac{\\partial \\alpha(t)}{\\partial t}\\label{mod2_stef}\\tag{35}\\\n",
    "\\end{align}\n",
    "  \n",
    "where $T_m$, $X$ and $t_{a}$ are melting temperature, finite electric contact radius and arcing duration respectively.\\\\\n",
    "Following analogy in section \\ref{sec:exact} we represent solution in the form of series\n",
    "\\begin{align}\n",
    "&U_1(x,t)=T_m + \\sum_{n=0}^{k}\\left(2a_{1}\\sqrt{t}\\right)^{n}\\left[A_ni^nerfc\\left( \\frac{x}{2a_{1}\\sqrt{t}} \\right)+ B_ni^nerfc\\left( \\frac{-x}{2a_{1}\\sqrt{t}} \\right)\\right], \\label{mod2_sol1}\\tag{36}\\\\[3mm]\n",
    "&U_2(x,t)= T_m + \\sum_{n=0}^{k}\\left(2a_{2}\\sqrt{t}\\right)^{n}\\left[C_ni^nerfc\\left( \\frac{x}{2a_{2}\\sqrt{t}} \\right)+ D_ni^nerfc\\left( \\frac{-x}{2a_{2}\\sqrt{t}} \\right)\\right], \\label{mod2_sol2}\\tag{37}\\\n",
    "\\end{align}\n",
    "where coefficients $D_{n}$ at \\ref{mod2_sol2} can be found from \\ref{mod2_incond2} following the same principle in section \\ref{sec:approx}.\\\\Thus,\n",
    "\n",
    "\\begin{align}\n",
    "&D_n=\\frac{f^{n}(0)}{2}.\\tag{38}\\\n",
    "\\label{mod2_Dn}\n",
    "\\end{align}\n",
    "Let $P(t)=\\sum_{n=0}^{k}P_{n}t^n$, where $P_n=\\frac{P^{n}(0)}{n!}$. The idea of the collocation method applied in this problem is to subdivide $0<t<T_a$ into $k$ intervals and after substituting solution functions \\ref{mod2_sol1}, \\ref{mod2_sol2} into the boundary conditions \\ref{mod2_flux},\\ref{mod2_temp},\\ref{mod2_stef} at points $t_1, t_2,...,t_k$ solve the system of linear algebraic equation or matrix equation \\ref{mateq} for coefficients $A_n, B_n, C_n, P_n$ using HHL algorithm, where $M, x, b$ in equation \\ref{mateq} are as following:\n",
    "\\begin{align}\n",
    "&M=\\begin{pmatrix}m_{1,1}&\\dots&m_{1,4}&\\dots&m_{{1,}{4k-3}}&\\dots&m_{{1,}{4k}}\\\\\\vdots\\\\m_{k,1}&\\dots&m_{k,4}&\\dots&m_{{k,}{4k-3}}&\\dots&m_{{k,}{4k}}\\\\m_{k+1,1}&\\dots&m_{k+1,4}&\\dots&m_{{k+1,}{4k-3}}&\\dots&m_{{k+1,}{4k}}\\\\\\vdots\\\\m_{2k,1}&\\dots&m_{2k,4}&\\dots&m_{{2k,}{4k-3}}&\\dots&m_{{2k,}{4k}}\\\\m_{2k+1,1}&\\dots&m_{2k+1,4}&\\dots&m_{{2k+1,}{4k-3}}&\\dots&m_{{2k+1,}{4k}}\\\\\\vdots\\\\m_{3k,1}&\\dots&m_{3k,4}&\\dots&m_{{3k,}{4k-3}}&\\dots&m_{{3k,}{4k}}\\\\m_{3k+1,1}&\\dots&m_{3k+1,4}&\\dots&m_{{3k+1,}{4k-3}}&\\dots&m_{{3k+1,}{4k}}\\\\\\vdots\\\\m_{4k,1}&\\dots&m_{4k,4}&\\dots&m_{{4k,}{4k-3}}&\\dots&m_{{4k,}{4k}}\\end{pmatrix},\\label{stefmentries}\\tag{39}\\\n",
    "\\end{align}\n",
    "\\begin{align*}\n",
    "\\\\&x=\\begin{pmatrix}A_0\\\\B_0\\\\C_0\\\\P_0\\\\\\vdots\\\\A_k\\\\B_k\\\\C_k\\\\P_k\\end{pmatrix},\n",
    "b=\\begin{pmatrix}0\\\\\\vdots\\\\0\\\\0\\\\\\vdots\\\\0\\\\-\\left(2a_{2}\\sqrt{t_{1}}\\right)^{k}i^{k}erfc\\left( \\frac{-\\alpha(t_1)}{\\left(2a_{2}\\sqrt{t_{1}}\\right)} \\right)\\\\\\vdots\\\\-\\left(2a_{2}\\sqrt{t_{k}}\\right)^{k}i^{k}erfc\\left( \\frac{-\\alpha(t_k)}{\\left(2a_{2}\\sqrt{t_{k}}\\right)} \\right)\\\\L\\gamma\\left.\\frac{d\\alpha(t)}{dt}\\right|_{t_{1}}-\\lambda_2\\frac{\\left(2a_{2}\\sqrt{t_{1}}\\right)^{k-1}}{\\left(\\alpha(t_1)\\right)^2}i^{k-1}erfc\\left( \\frac{\\alpha(t_1)}{2a_{2}\\sqrt{t_{1}}} \\right)\\\\\\vdots\\\\L\\gamma\\left.\\frac{d\\alpha(t)}{dt}\\right|_{t_{k}}-\\lambda_2\\frac{\\left(2a_{2}\\sqrt{t_{k}}\\right)^{k-1}}{\\left(\\alpha(t_k)\\right)^2}i^{k-1}erfc\\left( \\frac{\\alpha(t_k)}{2a_{2}\\sqrt{t_{k}}} \\right)\\end{pmatrix},\n",
    "\\end{align*}\n",
    "where\n",
    "\\begin{align*}\n",
    "&m_{k,4k-3}=-\\lambda_1 \\frac{\\left(2a_{1}\\sqrt{t_{k}}\\right)^{k-1}}{\\alpha(t_k)}i^{k-1}erfc\\left( 0 \\right),\\\\ \n",
    "&m_{k,4k-2}=-\\lambda_1 \\frac{\\left(2a_{1}\\sqrt{t_{k}}\\right)^{k-1}}{\\alpha(t_k)}i^{k-1}erfc\\left( 0 \\right),\\\\\n",
    "&m_{k,4k-1}=0,\n",
    "m_{k,4k}=t_k^(k-1),\\\\\n",
    "&m_{2k,4k-3}=\\frac{\\left(2a_{1}\\sqrt{t_{k}}\\right)^{k}}{\\alpha(t_k)}i^{k}erfc\\left( \\frac{\\alpha(t_k)}{2a_{1}\\sqrt{t_{k}}} \\right),\\\\\n",
    "&m_{2k,4k-2}=\\frac{\\left(2a_{1}\\sqrt{t_{k}}\\right)^{k}}{\\alpha(t_k)}i^{k}erfc\\left( \\frac{-\\alpha(t_k)}{2a_{1}\\sqrt{t_{k}}} \\right),\\\\\n",
    "&m_{2k,4k-1}=0,m_{2k,4k}=0,\\\\\n",
    "&m_{3k,4k-3}= 0,m_{3k,4k-2}=0,\\\\\n",
    "&m_{3k,4k-1}= \\frac{\\left(2a_{2}\\sqrt{t_{k}}\\right)^{k}}{\\alpha(t_k)}i^{k}erfc\\left( \\frac{\\alpha(t_k)}{2a_{2}\\sqrt{t_{k}}} \\right),\\\\\n",
    "&m_{3k,4k}= 0,\\\\\n",
    "&m_{4k,4k-3}=\\lambda_1\\frac{\\left(2a_{1}\\sqrt{t_{k}}\\right)^{k-1}}{\\alpha(t_k)}i^{k-1}erfc\\left( \\frac{\\alpha(t_k)}{2a_{1}\\sqrt{t_{k}}} \\right),\\\\ \n",
    "&m_{4k,4k-2}=-\\lambda_1\\frac{\\left(2a_{1}\\sqrt{t_{k}}\\right)^{k-1}}{\\alpha(t_k)}i^{k-1}erfc\\left( -\\frac{\\alpha(t_k)}{2a_{1}\\sqrt{t_{k}}} \\right),\\\\\n",
    "&m_{4k,4k-1}=-\\lambda_2\\frac{\\left(2a_{2}\\sqrt{t_{k}}\\right)^{k-1}}{\\left(\\alpha(t_k)\\right)^2}i^{k-1}erfc\\left( \\frac{\\alpha(t_k)}{2a_{2}\\sqrt{t_{k}}} \\right),\\\\\n",
    "&m_{4k,4k}=0,\\\\\n",
    "\\end{align*}\n",
    "and expressions $\\pm\\lambda_j\\frac{\\left(2a_{j}\\sqrt{t_{n}}\\right)^{n-1}}{\\alpha(t_n)}i^{n-1}erfc\\left( \\frac{-\\alpha(t_n)}{2a_{2}\\sqrt{t_{n}}} \\right)$, \n",
    "$\\pm\\lambda_j\\frac{\\left(2a_{j}\\sqrt{t_{n}}\\right)^{n-1}}{\\alpha(t_n)}i^{n-1}erfc\\left( 0 \\right)$ \\\\\n",
    "where $j=1,2$, $n=0,...,k$ are numbers which can be determined from tables.  Next, we use Quantum HHL algorithm \\ref{alg:genhhl} for solving problem \\ref{mateq} with entries given in \\ref{stefmentries}. Numerical implementation is demonstrated in <sup>[29](#sar0)</sup>"
   ]
  },
  {
   "cell_type": "markdown",
   "metadata": {},
   "source": [
    "## 5.Experiments <a id='exper'></a>\n",
    "\n",
    "Here, we demonstrate the implementation of HHL algorithm for solving Inverse Two Phase Stefan Problem. Matrix values $m_{k,k}$ in  $\\eqref{stefmentries}$ can be calculated from tables, in this particular example we use following values:\n",
    "\n",
    "[[1, -1/3,0,0,0,0,0,0], [-1/3, 1,0,0,0,0,0,0],[0,0,1,-1/3,0,0,0,0],[0,0,-1/3,1,0,0,0,0],[0,0,0,0,1,-1/3,0,0],[0,0,0,0,-1/3,1,0,0],[0,0,0,0,0,0,1,-1/3],[0,0,0,0,0,0,-1/3,1]].\n",
    "\n",
    "Moving Boundary Value Problems with Discontinuous Coefficients can be solved absolutely in the same manner."
   ]
  },
  {
   "cell_type": "code",
   "execution_count": 1,
   "metadata": {},
   "outputs": [],
   "source": [
    "from qiskit import Aer\n",
    "from qiskit.circuit.library import QFT\n",
    "from qiskit.aqua import QuantumInstance, aqua_globals\n",
    "from qiskit.quantum_info import state_fidelity\n",
    "from qiskit.aqua.algorithms import HHL, NumPyLSsolver\n",
    "from qiskit.aqua.components.eigs import EigsQPE\n",
    "from qiskit.aqua.components.reciprocals import LookupRotation\n",
    "from qiskit.aqua.operators import MatrixOperator\n",
    "from qiskit.aqua.components.initial_states import Custom\n",
    "import numpy as np"
   ]
  },
  {
   "cell_type": "code",
   "execution_count": 2,
   "metadata": {},
   "outputs": [],
   "source": [
    "def create_eigs(matrix, num_ancillae, num_time_slices, negative_evals):\n",
    "    ne_qfts = [None, None]\n",
    "    if negative_evals:\n",
    "        num_ancillae += 1\n",
    "        ne_qfts = [QFT(num_ancillae - 1), QFT(num_ancillae - 1).inverse()]\n",
    "\n",
    "    return EigsQPE(MatrixOperator(matrix=matrix),\n",
    "                   QFT(num_ancillae).inverse(),\n",
    "                   num_time_slices=num_time_slices,\n",
    "                   num_ancillae=num_ancillae,\n",
    "                   expansion_mode='suzuki',\n",
    "                   expansion_order=2,\n",
    "                   evo_time=np.pi*3/4,\n",
    "                   negative_evals=negative_evals,\n",
    "                   ne_qfts=ne_qfts)"
   ]
  },
  {
   "cell_type": "markdown",
   "metadata": {},
   "source": [
    "The following function will be used to calculate the fidelity of solution returned by the HHL algorithm."
   ]
  },
  {
   "cell_type": "code",
   "execution_count": 3,
   "metadata": {},
   "outputs": [],
   "source": [
    "def fidelity(hhl, ref):\n",
    "    solution_hhl_normed = hhl / np.linalg.norm(hhl)\n",
    "    solution_ref_normed = ref / np.linalg.norm(ref)\n",
    "    fidelity = state_fidelity(solution_hhl_normed, solution_ref_normed)\n",
    "    print(\"Fidelity:\\t\\t %f\" % fidelity)"
   ]
  },
  {
   "cell_type": "code",
   "execution_count": 4,
   "metadata": {},
   "outputs": [],
   "source": [
    "matrix = [[1, -1/3,0,0,0,0,0,0], [-1/3, 1,0,0,0,0,0,0],[0,0,1,-1/3,0,0,0,0],[0,0,-1/3,1,0,0,0,0],[0,0,0,0,1,-1/3,0,0],[0,0,0,0,-1/3,1,0,0],[0,0,0,0,0,0,1,-1/3],[0,0,0,0,0,0,-1/3,1]]\n",
    "vector = [1, 0,1,0,1,0,1,0]"
   ]
  },
  {
   "cell_type": "code",
   "execution_count": 5,
   "metadata": {},
   "outputs": [],
   "source": [
    "orig_size = len(vector)\n",
    "matrix, vector, truncate_powerdim, truncate_hermitian = HHL.matrix_resize(matrix, vector)\n",
    "\n",
    "# Initialize eigenvalue finding module\n",
    "eigs = create_eigs(matrix, 3, 50, False)\n",
    "num_q, num_a = eigs.get_register_sizes()\n",
    "\n",
    "# Initialize initial state module\n",
    "init_state = Custom(num_q, state_vector=vector)\n",
    "\n",
    "# Initialize reciprocal rotation module\n",
    "reci = LookupRotation(negative_evals=eigs._negative_evals, evo_time=eigs._evo_time)\n",
    "\n",
    "algo = HHL(matrix, vector, truncate_powerdim, truncate_hermitian, eigs,\n",
    "           init_state, reci, num_q, num_a, orig_size)\n"
   ]
  },
  {
   "cell_type": "code",
   "execution_count": 6,
   "metadata": {},
   "outputs": [
    {
     "name": "stdout",
     "output_type": "stream",
     "text": [
      "Solution:\t\t [1.125-0.j 0.375+0.j 1.125-0.j 0.375+0.j 1.125-0.j 0.375+0.j 1.125-0.j\n",
      " 0.375+0.j]\n",
      "Classical Solution:\t [1.125 0.375 1.125 0.375 1.125 0.375 1.125 0.375]\n",
      "Probability:\t\t 0.156250\n",
      "Fidelity:\t\t 1.000000\n"
     ]
    }
   ],
   "source": [
    "result = algo.run(QuantumInstance(Aer.get_backend('statevector_simulator')))\n",
    "print(\"Solution:\\t\\t\", np.round(result['solution'], 5))\n",
    "\n",
    "result_ref = NumPyLSsolver(matrix, vector).run()\n",
    "print(\"Classical Solution:\\t\", np.round(result_ref['solution'], 5))\n",
    "\n",
    "print(\"Probability:\\t\\t %f\" % result['probability_result'])\n",
    "fidelity(result['solution'], result_ref['solution'])"
   ]
  },
  {
   "cell_type": "code",
   "execution_count": 7,
   "metadata": {},
   "outputs": [
    {
     "name": "stdout",
     "output_type": "stream",
     "text": [
      "circuit_width:\t 9\n",
      "circuit_depth:\t 104\n",
      "CNOT gates:\t 56\n"
     ]
    }
   ],
   "source": [
    "print(\"circuit_width:\\t\", result['circuit_info']['width'])\n",
    "print(\"circuit_depth:\\t\", result['circuit_info']['depth'])\n",
    "print(\"CNOT gates:\\t\", result['circuit_info']['operations']['cx'])"
   ]
  },
  {
   "cell_type": "code",
   "execution_count": null,
   "metadata": {},
   "outputs": [],
   "source": []
  },
  {
   "cell_type": "markdown",
   "metadata": {},
   "source": [
    "## 5. References <a id='references'></a>"
   ]
  },
  {
   "cell_type": "markdown",
   "metadata": {},
   "source": [
    "1. E. Holm, J. Williamson, R. Holm, Electric Contacts: Theory and Application, Springer Berlin\n",
    "Heidelberg, 2013.<a id='holm'></a> \n",
    "2. P. Slade, Electrical Contacts: Principles and Applications, Second Edition, CRC Press, 2017.\n",
    "URL https://books.google.com/books?id=N7LMBQAAQBAJ<a id='slade'></a>\n",
    "3.A. Friedman, Free boundary problems for parabolic equations, Bull. Amer. Math. Soc. 76 (5) (1970) 934-941. <a id='fried70'></a>\n",
    "4. L. Rubinstein, The Stefan Problem, Translations of Mathematical Monographs, American\n",
    "Mathematical Society, 2000. <a id='rub'></a>\n",
    "5. S. N. Kharin, Mathematical Models of Heat and Mass Transfer in Electrical Contacts, in: PRO55\n",
    "CEEDINGS OF THE 2015 SIXTY-FIRST IEEE HOLM CONFERENCE ON ELECTRICAL\n",
    "CONTACTS (HOLM), Electrical Contacts-IEEE Holm Conference on Electrical Contacts,\n",
    "2015, pp. 1{21, 61st IEEE Holm Conference on Electrical Contacts (Holm), San Diego, CA,\n",
    "OCT 11-14, 2015.<a id='khar15'></a>\n",
    "6. S. N. Kharin, Mathematical Model of a Hollow Bridge at Contact Opening, in: 28TH INTER-\n",
    "60 NATIONAL CONFERENCE ON ELECTRIC CONTACTS (ICEC2016), 2016, pp. 139{145,\n",
    "28th International Conference on Electric Contacts (ICEC), Edinburgh, SCOTLAND, JUN\n",
    "06-09, 2016.<a id='khar16'></a>\n",
    "7.S. Kharin, M. Sarsengeldin, In\n",
    "uence of contact materials on phenomena in a short electrical\n",
    "arc, in: Advanced Materials XII, Vol. 510 of Key Engineering Materials, Trans Tech Publica65\n",
    "tions Ltd, 2012, pp. 321{329. doi:10.4028/www.scientific.net/KEM.510-511.321.<a id='kharsar12'></a>\n",
    "8. A. Tikhonov, A. Samarskii, Equations of Mathematical Physics, Dover Books on Physics,\n",
    "Dover Publications, 2013.<a id='tikh'></a>\n",
    "9. D. A. Tarzia, A bibliography on moving-free boundary problems for the heat-diffusion equation.\n",
    "70 the stefan and related problems, Materials 2 (2000) 1-297.<a id='tar'></a>\n",
    "10. P. Appell, Sur l'equation d2z/dx2 | dz/dy et la thtorie de la chaleur, J. Math Pures Appl. 8\n",
    "(1892) 187-216.<a id='app'></a>\n",
    "11. D. Widder, The Heat Equation, Academic Press, 1975.<a id='widd75'></a>\n",
    "12. F. M. Cholewinski, D. T. Haimo, Classical analysis and the generalized heat equation, SIAM\n",
    "Review 10 (1) (1968) 67. <a id='chol'></a>\n",
    "URL http://www.jstor.org/stable/2027811\n",
    "13. D. V. Widder, The role of the appell transformation in the theory of heat conduction, Transactions\n",
    "of the American Mathematical Society 109 (1) (1963) 121.<a id='widd63'></a>\n",
    "80 URL http://www.jstor.org/stable/1993650\n",
    "14. L. R. Bragg, The radial heat polynomials and related functions, Transactions of the American\n",
    "Mathematical Society 119 (1965) 270.<a id='bragg'></a>\n",
    "15. S. Kharin, Mathematical Models of Phenomena in Electrical contacts, The Russian Academy\n",
    "of Sciences, SiberiaBrn anch, A. P. Ershow Institute of Informatics System, 2017.<a id='khar17'></a>\n",
    "16. P. Benioff, The computer as a physical system: A microscopic quantum mechanical Hamiltonian\n",
    "model of computers as represented by Turing machines, Journal of Statistical Physics\n",
    "22 (5) (1980) 563-591.<a id='benioff'></a>\n",
    "17. R. P. Feynman, Simulating Physics with Computers, International Journal of Theoretical\n",
    "Physics 21 (6-7) (1982) 467-488. <a id='feynm'></a>\n",
    "18. P. W. Shor, Polynomial-time algorithms for prime factorization and discrete logarithms\n",
    "on a quantum computer, SIAM J. Comput. 26 (5) (1997) 1484-1509. <a id='shor'></a>\n",
    "19. L. K. Grover, A fast quantum mechanical algorithm for database search, in: Proceedings of the\n",
    "95 Twenty-Eighth Annual ACM Symposium on Theory of Computing, STOC '96, Association for\n",
    "Computing Machinery, New York, NY, USA, 1996, p. 212-219. <a id='grover96'></a>\n",
    "20. L. K. Grover, Quantum mechanics helps in searching for a needle in a haystack, Phys. Rev.\n",
    "Lett. 79 (1997) 325-328. <a id='grover97'></a>\n",
    "21. A. Montanaro, Quantum algorithms: an overview, npj Quantum Information 2.<a id='mont'></a>\n",
    "22. A. W. Harrow, A. Hassidim, S. Lloyd, Quantum algorithm for linear systems of equations,\n",
    "Phys. Rev. Lett. 103 (2009) 150502.<a id='hhl'></a>\n",
    "23. L. Wossnig, Z. Zhao, A. Prakash, Quantum linear system algorithm for dense matrices, Phys.\n",
    "Rev. Lett. 120 (2018). <a id='wosn'></a>\n",
    "24. B. Duan, J. Yuan, C.-H. Yu, J. Huang, C.-Y. Hsieh, A survey on HHL algorithm: From theory\n",
    "to application in quantum machine learning, PHYSICS LETTERS A 384 (24).<a id='duan'></a>\n",
    "25. J. Abhijith, A. Adedoyin, J. Ambrosiano, P. Anisimov, A. Bartschi, W. Casper, G. Chennupati,\n",
    "C. Coffrin, H. Djidjev, D. Gunter, S. Karra, N. Lemons, S. Lin, A. Malyzhenkov, D. Mascarenas,\n",
    "S. Mniszewski, B. Nadiga, D. O'Malley, D. Oyen, S. Pakin, L. Prasad, R. Roberts,\n",
    "P. Romero, N. Santhi, N. Sinitsyn, P. J. Swart, J. G. Wendelberger, B. Yoon, R. Zamora,\n",
    "W. Zhu, S. Eidenbenz, P. J. Coles, M. Vu\u000b",
    "ray, A. Y. Lokhov, Quantum Algorithm Implemen115\n",
    "tations for Beginners, arXiv e-prints (2018) arXiv:1804.03719arXiv:1804.03719.<a id='abh'></a>\n",
    "26. S. Chakraborty, A. Gilyen, S. Jeffery, The power of block-encoded matrix powers: improved regression techniques via faster hamiltonian simulation (2018). arXiv:1804.01973.<a id='chakr'></a>\n",
    "27. D. Dervovic, M. Herbster, P. Mountney, S. Severini, N. Usher, L. Wossnig, Quantum linear systems algorithms: a primer, ArXiv abs/1802.08227.<a id='derv'></a>\n",
    "28. E. Tang, A Quantum-Inspired Classical Algorithm for Recommendation Systems, in: Charikar, M and Cohen, E (Ed.), PROCEEDINGS OF THE 51ST ANNUAL ACM SIGACT SYMPOSIUM ON THEORY OF COMPUTING (STOC 19), Annual ACM Symposium on Theory\n",
    "of Computing, Assoc Comp Machinery; ACM Special Interest Grp Algorithms & Computat Theory, 2019, pp. 217{228, 51st Annual ACM SIGACT Symposium on Theory of Computing 125 (STOC), Phoenix, AZ, JUN 23-26, 2019.<a id='tang'></a>\n",
    "29. Merey Sarsengeldin, Special functions and hhl quantum algorithm for solving moving boundary value problems occurring in electric contact phenomena (2020).\n",
    "URL https://github.com/users/Schrodinger-cat-kz/projects/2. <a id='sar0'></a>\n",
    "30. M. Sarsengeldin, S. Kharin, Method of the Integral Error Functions for the Solution of the One and Two-Phase Stefan Problems and its Application, FILOMAT 31 (4) (2017) 1017{1029.<a id='sar17'></a>\n",
    "31. A. Friedman, Free boundary problems in science and technology, Notices Amer. Math. Soc (2000) 854-861.<a id='fried'></a>\n"
   ]
  },
  {
   "cell_type": "code",
   "execution_count": null,
   "metadata": {},
   "outputs": [],
   "source": []
  }
 ],
 "metadata": {
  "kernelspec": {
   "display_name": "Python 3",
   "language": "python",
   "name": "python3"
  },
  "language_info": {
   "codemirror_mode": {
    "name": "ipython",
    "version": 3
   },
   "file_extension": ".py",
   "mimetype": "text/x-python",
   "name": "python",
   "nbconvert_exporter": "python",
   "pygments_lexer": "ipython3",
   "version": "3.8.5"
  }
 },
 "nbformat": 4,
 "nbformat_minor": 2
}
